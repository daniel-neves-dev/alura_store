{
  "nbformat": 4,
  "nbformat_minor": 0,
  "metadata": {
    "colab": {
      "provenance": [],
      "include_colab_link": true
    },
    "kernelspec": {
      "name": "python3",
      "display_name": "Python 3"
    },
    "language_info": {
      "name": "python"
    }
  },
  "cells": [
    {
      "cell_type": "markdown",
      "metadata": {
        "id": "view-in-github",
        "colab_type": "text"
      },
      "source": [
        "<a href=\"https://colab.research.google.com/github/daniel-neves-dev/alura_store/blob/main/AluraStoreBr.ipynb\" target=\"_parent\"><img src=\"https://colab.research.google.com/assets/colab-badge.svg\" alt=\"Open In Colab\"/></a>"
      ]
    },
    {
      "cell_type": "markdown",
      "source": [
        "### Importação dos dados\n",
        "\n"
      ],
      "metadata": {
        "id": "RhEdWd9YUR6H"
      }
    },
    {
      "cell_type": "code",
      "execution_count": 1,
      "metadata": {
        "colab": {
          "base_uri": "https://localhost:8080/",
          "height": 206
        },
        "id": "T3EvaeQ_INIL",
        "outputId": "60807392-de8f-410f-ca57-ceacd0d26aa2"
      },
      "outputs": [
        {
          "output_type": "execute_result",
          "data": {
            "text/plain": [
              "                 Produto Categoria do Produto    Preço      Frete  \\\n",
              "0     Assistente virtual          eletronicos   219.08   9.249790   \n",
              "1         Mesa de jantar               moveis   256.35  11.234305   \n",
              "2      Jogo de tabuleiro           brinquedos   279.51  21.262681   \n",
              "3            Micro-ondas     eletrodomesticos  1009.99  54.667344   \n",
              "4  Cadeira de escritório               moveis   446.99  26.964689   \n",
              "\n",
              "  Data da Compra        Vendedor Local da compra  Avaliação da compra  \\\n",
              "0     16/01/2021     Pedro Gomes              SP                    4   \n",
              "1     18/05/2022  Beatriz Moraes              RJ                    1   \n",
              "2     15/03/2021      João Souza              DF                    1   \n",
              "3     03/05/2022      João Souza              RS                    4   \n",
              "4     07/11/2020   Larissa Alves              MG                    5   \n",
              "\n",
              "  Tipo de pagamento  Quantidade de parcelas    lat    lon  \n",
              "0    cartao_credito                       8 -22.19 -48.79  \n",
              "1    cartao_credito                       4 -22.25 -42.66  \n",
              "2    cartao_credito                       1 -15.83 -47.86  \n",
              "3            boleto                       1 -30.17 -53.50  \n",
              "4            boleto                       1 -18.10 -44.38  "
            ],
            "text/html": [
              "\n",
              "  <div id=\"df-4ce669de-c39c-439e-8a3c-b3f4d6c6423f\" class=\"colab-df-container\">\n",
              "    <div>\n",
              "<style scoped>\n",
              "    .dataframe tbody tr th:only-of-type {\n",
              "        vertical-align: middle;\n",
              "    }\n",
              "\n",
              "    .dataframe tbody tr th {\n",
              "        vertical-align: top;\n",
              "    }\n",
              "\n",
              "    .dataframe thead th {\n",
              "        text-align: right;\n",
              "    }\n",
              "</style>\n",
              "<table border=\"1\" class=\"dataframe\">\n",
              "  <thead>\n",
              "    <tr style=\"text-align: right;\">\n",
              "      <th></th>\n",
              "      <th>Produto</th>\n",
              "      <th>Categoria do Produto</th>\n",
              "      <th>Preço</th>\n",
              "      <th>Frete</th>\n",
              "      <th>Data da Compra</th>\n",
              "      <th>Vendedor</th>\n",
              "      <th>Local da compra</th>\n",
              "      <th>Avaliação da compra</th>\n",
              "      <th>Tipo de pagamento</th>\n",
              "      <th>Quantidade de parcelas</th>\n",
              "      <th>lat</th>\n",
              "      <th>lon</th>\n",
              "    </tr>\n",
              "  </thead>\n",
              "  <tbody>\n",
              "    <tr>\n",
              "      <th>0</th>\n",
              "      <td>Assistente virtual</td>\n",
              "      <td>eletronicos</td>\n",
              "      <td>219.08</td>\n",
              "      <td>9.249790</td>\n",
              "      <td>16/01/2021</td>\n",
              "      <td>Pedro Gomes</td>\n",
              "      <td>SP</td>\n",
              "      <td>4</td>\n",
              "      <td>cartao_credito</td>\n",
              "      <td>8</td>\n",
              "      <td>-22.19</td>\n",
              "      <td>-48.79</td>\n",
              "    </tr>\n",
              "    <tr>\n",
              "      <th>1</th>\n",
              "      <td>Mesa de jantar</td>\n",
              "      <td>moveis</td>\n",
              "      <td>256.35</td>\n",
              "      <td>11.234305</td>\n",
              "      <td>18/05/2022</td>\n",
              "      <td>Beatriz Moraes</td>\n",
              "      <td>RJ</td>\n",
              "      <td>1</td>\n",
              "      <td>cartao_credito</td>\n",
              "      <td>4</td>\n",
              "      <td>-22.25</td>\n",
              "      <td>-42.66</td>\n",
              "    </tr>\n",
              "    <tr>\n",
              "      <th>2</th>\n",
              "      <td>Jogo de tabuleiro</td>\n",
              "      <td>brinquedos</td>\n",
              "      <td>279.51</td>\n",
              "      <td>21.262681</td>\n",
              "      <td>15/03/2021</td>\n",
              "      <td>João Souza</td>\n",
              "      <td>DF</td>\n",
              "      <td>1</td>\n",
              "      <td>cartao_credito</td>\n",
              "      <td>1</td>\n",
              "      <td>-15.83</td>\n",
              "      <td>-47.86</td>\n",
              "    </tr>\n",
              "    <tr>\n",
              "      <th>3</th>\n",
              "      <td>Micro-ondas</td>\n",
              "      <td>eletrodomesticos</td>\n",
              "      <td>1009.99</td>\n",
              "      <td>54.667344</td>\n",
              "      <td>03/05/2022</td>\n",
              "      <td>João Souza</td>\n",
              "      <td>RS</td>\n",
              "      <td>4</td>\n",
              "      <td>boleto</td>\n",
              "      <td>1</td>\n",
              "      <td>-30.17</td>\n",
              "      <td>-53.50</td>\n",
              "    </tr>\n",
              "    <tr>\n",
              "      <th>4</th>\n",
              "      <td>Cadeira de escritório</td>\n",
              "      <td>moveis</td>\n",
              "      <td>446.99</td>\n",
              "      <td>26.964689</td>\n",
              "      <td>07/11/2020</td>\n",
              "      <td>Larissa Alves</td>\n",
              "      <td>MG</td>\n",
              "      <td>5</td>\n",
              "      <td>boleto</td>\n",
              "      <td>1</td>\n",
              "      <td>-18.10</td>\n",
              "      <td>-44.38</td>\n",
              "    </tr>\n",
              "  </tbody>\n",
              "</table>\n",
              "</div>\n",
              "    <div class=\"colab-df-buttons\">\n",
              "\n",
              "  <div class=\"colab-df-container\">\n",
              "    <button class=\"colab-df-convert\" onclick=\"convertToInteractive('df-4ce669de-c39c-439e-8a3c-b3f4d6c6423f')\"\n",
              "            title=\"Convert this dataframe to an interactive table.\"\n",
              "            style=\"display:none;\">\n",
              "\n",
              "  <svg xmlns=\"http://www.w3.org/2000/svg\" height=\"24px\" viewBox=\"0 -960 960 960\">\n",
              "    <path d=\"M120-120v-720h720v720H120Zm60-500h600v-160H180v160Zm220 220h160v-160H400v160Zm0 220h160v-160H400v160ZM180-400h160v-160H180v160Zm440 0h160v-160H620v160ZM180-180h160v-160H180v160Zm440 0h160v-160H620v160Z\"/>\n",
              "  </svg>\n",
              "    </button>\n",
              "\n",
              "  <style>\n",
              "    .colab-df-container {\n",
              "      display:flex;\n",
              "      gap: 12px;\n",
              "    }\n",
              "\n",
              "    .colab-df-convert {\n",
              "      background-color: #E8F0FE;\n",
              "      border: none;\n",
              "      border-radius: 50%;\n",
              "      cursor: pointer;\n",
              "      display: none;\n",
              "      fill: #1967D2;\n",
              "      height: 32px;\n",
              "      padding: 0 0 0 0;\n",
              "      width: 32px;\n",
              "    }\n",
              "\n",
              "    .colab-df-convert:hover {\n",
              "      background-color: #E2EBFA;\n",
              "      box-shadow: 0px 1px 2px rgba(60, 64, 67, 0.3), 0px 1px 3px 1px rgba(60, 64, 67, 0.15);\n",
              "      fill: #174EA6;\n",
              "    }\n",
              "\n",
              "    .colab-df-buttons div {\n",
              "      margin-bottom: 4px;\n",
              "    }\n",
              "\n",
              "    [theme=dark] .colab-df-convert {\n",
              "      background-color: #3B4455;\n",
              "      fill: #D2E3FC;\n",
              "    }\n",
              "\n",
              "    [theme=dark] .colab-df-convert:hover {\n",
              "      background-color: #434B5C;\n",
              "      box-shadow: 0px 1px 3px 1px rgba(0, 0, 0, 0.15);\n",
              "      filter: drop-shadow(0px 1px 2px rgba(0, 0, 0, 0.3));\n",
              "      fill: #FFFFFF;\n",
              "    }\n",
              "  </style>\n",
              "\n",
              "    <script>\n",
              "      const buttonEl =\n",
              "        document.querySelector('#df-4ce669de-c39c-439e-8a3c-b3f4d6c6423f button.colab-df-convert');\n",
              "      buttonEl.style.display =\n",
              "        google.colab.kernel.accessAllowed ? 'block' : 'none';\n",
              "\n",
              "      async function convertToInteractive(key) {\n",
              "        const element = document.querySelector('#df-4ce669de-c39c-439e-8a3c-b3f4d6c6423f');\n",
              "        const dataTable =\n",
              "          await google.colab.kernel.invokeFunction('convertToInteractive',\n",
              "                                                    [key], {});\n",
              "        if (!dataTable) return;\n",
              "\n",
              "        const docLinkHtml = 'Like what you see? Visit the ' +\n",
              "          '<a target=\"_blank\" href=https://colab.research.google.com/notebooks/data_table.ipynb>data table notebook</a>'\n",
              "          + ' to learn more about interactive tables.';\n",
              "        element.innerHTML = '';\n",
              "        dataTable['output_type'] = 'display_data';\n",
              "        await google.colab.output.renderOutput(dataTable, element);\n",
              "        const docLink = document.createElement('div');\n",
              "        docLink.innerHTML = docLinkHtml;\n",
              "        element.appendChild(docLink);\n",
              "      }\n",
              "    </script>\n",
              "  </div>\n",
              "\n",
              "\n",
              "    <div id=\"df-7c04e1f6-6aea-43b3-81bb-0cc123542ac4\">\n",
              "      <button class=\"colab-df-quickchart\" onclick=\"quickchart('df-7c04e1f6-6aea-43b3-81bb-0cc123542ac4')\"\n",
              "                title=\"Suggest charts\"\n",
              "                style=\"display:none;\">\n",
              "\n",
              "<svg xmlns=\"http://www.w3.org/2000/svg\" height=\"24px\"viewBox=\"0 0 24 24\"\n",
              "     width=\"24px\">\n",
              "    <g>\n",
              "        <path d=\"M19 3H5c-1.1 0-2 .9-2 2v14c0 1.1.9 2 2 2h14c1.1 0 2-.9 2-2V5c0-1.1-.9-2-2-2zM9 17H7v-7h2v7zm4 0h-2V7h2v10zm4 0h-2v-4h2v4z\"/>\n",
              "    </g>\n",
              "</svg>\n",
              "      </button>\n",
              "\n",
              "<style>\n",
              "  .colab-df-quickchart {\n",
              "      --bg-color: #E8F0FE;\n",
              "      --fill-color: #1967D2;\n",
              "      --hover-bg-color: #E2EBFA;\n",
              "      --hover-fill-color: #174EA6;\n",
              "      --disabled-fill-color: #AAA;\n",
              "      --disabled-bg-color: #DDD;\n",
              "  }\n",
              "\n",
              "  [theme=dark] .colab-df-quickchart {\n",
              "      --bg-color: #3B4455;\n",
              "      --fill-color: #D2E3FC;\n",
              "      --hover-bg-color: #434B5C;\n",
              "      --hover-fill-color: #FFFFFF;\n",
              "      --disabled-bg-color: #3B4455;\n",
              "      --disabled-fill-color: #666;\n",
              "  }\n",
              "\n",
              "  .colab-df-quickchart {\n",
              "    background-color: var(--bg-color);\n",
              "    border: none;\n",
              "    border-radius: 50%;\n",
              "    cursor: pointer;\n",
              "    display: none;\n",
              "    fill: var(--fill-color);\n",
              "    height: 32px;\n",
              "    padding: 0;\n",
              "    width: 32px;\n",
              "  }\n",
              "\n",
              "  .colab-df-quickchart:hover {\n",
              "    background-color: var(--hover-bg-color);\n",
              "    box-shadow: 0 1px 2px rgba(60, 64, 67, 0.3), 0 1px 3px 1px rgba(60, 64, 67, 0.15);\n",
              "    fill: var(--button-hover-fill-color);\n",
              "  }\n",
              "\n",
              "  .colab-df-quickchart-complete:disabled,\n",
              "  .colab-df-quickchart-complete:disabled:hover {\n",
              "    background-color: var(--disabled-bg-color);\n",
              "    fill: var(--disabled-fill-color);\n",
              "    box-shadow: none;\n",
              "  }\n",
              "\n",
              "  .colab-df-spinner {\n",
              "    border: 2px solid var(--fill-color);\n",
              "    border-color: transparent;\n",
              "    border-bottom-color: var(--fill-color);\n",
              "    animation:\n",
              "      spin 1s steps(1) infinite;\n",
              "  }\n",
              "\n",
              "  @keyframes spin {\n",
              "    0% {\n",
              "      border-color: transparent;\n",
              "      border-bottom-color: var(--fill-color);\n",
              "      border-left-color: var(--fill-color);\n",
              "    }\n",
              "    20% {\n",
              "      border-color: transparent;\n",
              "      border-left-color: var(--fill-color);\n",
              "      border-top-color: var(--fill-color);\n",
              "    }\n",
              "    30% {\n",
              "      border-color: transparent;\n",
              "      border-left-color: var(--fill-color);\n",
              "      border-top-color: var(--fill-color);\n",
              "      border-right-color: var(--fill-color);\n",
              "    }\n",
              "    40% {\n",
              "      border-color: transparent;\n",
              "      border-right-color: var(--fill-color);\n",
              "      border-top-color: var(--fill-color);\n",
              "    }\n",
              "    60% {\n",
              "      border-color: transparent;\n",
              "      border-right-color: var(--fill-color);\n",
              "    }\n",
              "    80% {\n",
              "      border-color: transparent;\n",
              "      border-right-color: var(--fill-color);\n",
              "      border-bottom-color: var(--fill-color);\n",
              "    }\n",
              "    90% {\n",
              "      border-color: transparent;\n",
              "      border-bottom-color: var(--fill-color);\n",
              "    }\n",
              "  }\n",
              "</style>\n",
              "\n",
              "      <script>\n",
              "        async function quickchart(key) {\n",
              "          const quickchartButtonEl =\n",
              "            document.querySelector('#' + key + ' button');\n",
              "          quickchartButtonEl.disabled = true;  // To prevent multiple clicks.\n",
              "          quickchartButtonEl.classList.add('colab-df-spinner');\n",
              "          try {\n",
              "            const charts = await google.colab.kernel.invokeFunction(\n",
              "                'suggestCharts', [key], {});\n",
              "          } catch (error) {\n",
              "            console.error('Error during call to suggestCharts:', error);\n",
              "          }\n",
              "          quickchartButtonEl.classList.remove('colab-df-spinner');\n",
              "          quickchartButtonEl.classList.add('colab-df-quickchart-complete');\n",
              "        }\n",
              "        (() => {\n",
              "          let quickchartButtonEl =\n",
              "            document.querySelector('#df-7c04e1f6-6aea-43b3-81bb-0cc123542ac4 button');\n",
              "          quickchartButtonEl.style.display =\n",
              "            google.colab.kernel.accessAllowed ? 'block' : 'none';\n",
              "        })();\n",
              "      </script>\n",
              "    </div>\n",
              "\n",
              "    </div>\n",
              "  </div>\n"
            ],
            "application/vnd.google.colaboratory.intrinsic+json": {
              "type": "dataframe",
              "variable_name": "loja",
              "summary": "{\n  \"name\": \"loja\",\n  \"rows\": 2359,\n  \"fields\": [\n    {\n      \"column\": \"Produto\",\n      \"properties\": {\n        \"dtype\": \"category\",\n        \"num_unique_values\": 51,\n        \"samples\": [\n          \"Viol\\u00e3o\",\n          \"Bola de basquete\",\n          \"Smartwatch\"\n        ],\n        \"semantic_type\": \"\",\n        \"description\": \"\"\n      }\n    },\n    {\n      \"column\": \"Categoria do Produto\",\n      \"properties\": {\n        \"dtype\": \"category\",\n        \"num_unique_values\": 8,\n        \"samples\": [\n          \"moveis\",\n          \"esporte e lazer\",\n          \"eletronicos\"\n        ],\n        \"semantic_type\": \"\",\n        \"description\": \"\"\n      }\n    },\n    {\n      \"column\": \"Pre\\u00e7o\",\n      \"properties\": {\n        \"dtype\": \"number\",\n        \"std\": 819.5827782539145,\n        \"min\": 10.07,\n        \"max\": 3969.38,\n        \"num_unique_values\": 2315,\n        \"samples\": [\n          446.11,\n          107.31,\n          65.86\n        ],\n        \"semantic_type\": \"\",\n        \"description\": \"\"\n      }\n    },\n    {\n      \"column\": \"Frete\",\n      \"properties\": {\n        \"dtype\": \"number\",\n        \"std\": 43.814183327408166,\n        \"min\": 0.0,\n        \"max\": 214.3770604781,\n        \"num_unique_values\": 2149,\n        \"samples\": [\n          83.815279607,\n          16.069664669,\n          14.0344876928\n        ],\n        \"semantic_type\": \"\",\n        \"description\": \"\"\n      }\n    },\n    {\n      \"column\": \"Data da Compra\",\n      \"properties\": {\n        \"dtype\": \"object\",\n        \"num_unique_values\": 1018,\n        \"samples\": [\n          \"15/09/2022\",\n          \"03/06/2020\",\n          \"06/11/2021\"\n        ],\n        \"semantic_type\": \"\",\n        \"description\": \"\"\n      }\n    },\n    {\n      \"column\": \"Vendedor\",\n      \"properties\": {\n        \"dtype\": \"category\",\n        \"num_unique_values\": 14,\n        \"samples\": [\n          \"Juliana Costa\",\n          \"Mariana Ferreira\",\n          \"Pedro Gomes\"\n        ],\n        \"semantic_type\": \"\",\n        \"description\": \"\"\n      }\n    },\n    {\n      \"column\": \"Local da compra\",\n      \"properties\": {\n        \"dtype\": \"category\",\n        \"num_unique_values\": 26,\n        \"samples\": [\n          \"TO\",\n          \"RN\",\n          \"SP\"\n        ],\n        \"semantic_type\": \"\",\n        \"description\": \"\"\n      }\n    },\n    {\n      \"column\": \"Avalia\\u00e7\\u00e3o da compra\",\n      \"properties\": {\n        \"dtype\": \"number\",\n        \"std\": 1,\n        \"min\": 1,\n        \"max\": 5,\n        \"num_unique_values\": 5,\n        \"samples\": [\n          1,\n          2,\n          5\n        ],\n        \"semantic_type\": \"\",\n        \"description\": \"\"\n      }\n    },\n    {\n      \"column\": \"Tipo de pagamento\",\n      \"properties\": {\n        \"dtype\": \"category\",\n        \"num_unique_values\": 4,\n        \"samples\": [\n          \"boleto\",\n          \"cartao_debito\",\n          \"cartao_credito\"\n        ],\n        \"semantic_type\": \"\",\n        \"description\": \"\"\n      }\n    },\n    {\n      \"column\": \"Quantidade de parcelas\",\n      \"properties\": {\n        \"dtype\": \"number\",\n        \"std\": 2,\n        \"min\": 1,\n        \"max\": 24,\n        \"num_unique_values\": 15,\n        \"samples\": [\n          7,\n          14,\n          8\n        ],\n        \"semantic_type\": \"\",\n        \"description\": \"\"\n      }\n    },\n    {\n      \"column\": \"lat\",\n      \"properties\": {\n        \"dtype\": \"number\",\n        \"std\": 5.372399916530833,\n        \"min\": -30.17,\n        \"max\": 1.41,\n        \"num_unique_values\": 26,\n        \"samples\": [\n          -9.46,\n          -5.81,\n          -22.19\n        ],\n        \"semantic_type\": \"\",\n        \"description\": \"\"\n      }\n    },\n    {\n      \"column\": \"lon\",\n      \"properties\": {\n        \"dtype\": \"number\",\n        \"std\": 4.183180020544179,\n        \"min\": -70.55,\n        \"max\": -36.59,\n        \"num_unique_values\": 26,\n        \"samples\": [\n          -48.26,\n          -36.59,\n          -48.79\n        ],\n        \"semantic_type\": \"\",\n        \"description\": \"\"\n      }\n    }\n  ]\n}"
            }
          },
          "metadata": {},
          "execution_count": 1
        }
      ],
      "source": [
        "import pandas as pd\n",
        "import matplotlib.pyplot as plt\n",
        "from matplotlib.patches import Patch\n",
        "from prettytable import PrettyTable\n",
        "\n",
        "\n",
        "url1 = \"https://raw.githubusercontent.com/alura-es-cursos/challenge1-data-science/refs/heads/main/base-de-dados-challenge-1/loja_1.csv\"\n",
        "url2 = \"https://raw.githubusercontent.com/alura-es-cursos/challenge1-data-science/refs/heads/main/base-de-dados-challenge-1/loja_2.csv\"\n",
        "url3 = \"https://raw.githubusercontent.com/alura-es-cursos/challenge1-data-science/refs/heads/main/base-de-dados-challenge-1/loja_3.csv\"\n",
        "url4 = \"https://raw.githubusercontent.com/alura-es-cursos/challenge1-data-science/refs/heads/main/base-de-dados-challenge-1/loja_4.csv\"\n",
        "\n",
        "loja = pd.read_csv(url1)\n",
        "\n",
        "loja.head()"
      ]
    },
    {
      "cell_type": "code",
      "source": [
        "URLS = [url1, url2, url3, url4]\n",
        "\n",
        "def load_stores(urls) -> pd.DataFrame:\n",
        "    \"\"\" Load stores from a list of stores\"\"\"\n",
        "\n",
        "    df = pd.read_csv(urls, index_col=0)\n",
        "    return df\n",
        "\n",
        "stores = {f'Loja{i+1}': load_stores(u) for i, u in enumerate(URLS)}"
      ],
      "metadata": {
        "id": "zivVF3QL1WTn"
      },
      "execution_count": 2,
      "outputs": []
    },
    {
      "cell_type": "markdown",
      "source": [
        "#1. Análise do faturamento\n"
      ],
      "metadata": {
        "id": "X62IW3KFUIYm"
      }
    },
    {
      "cell_type": "code",
      "source": [
        "revenues = {store_name: (sum(df['Preço'])) for store_name, df in stores.items()}\n",
        "df_revenue = (pd.DataFrame(revenues.items(), columns=['Loja', 'Preço'])\n",
        "               .rename(columns={'Preço':'Faturamento'}))"
      ],
      "metadata": {
        "id": "xykobSftV64I"
      },
      "execution_count": 3,
      "outputs": []
    },
    {
      "cell_type": "code",
      "source": [
        "def plot_tabel_revenue(revenue_df: pd.DataFrame)->None:\n",
        "    \"\"\" Plot the total revenues for all stores \"\"\"\n",
        "\n",
        "    \"\"\"\n",
        "        Enter with the revenue in data frame format\n",
        "    \"\"\"\n",
        "\n",
        "    tabel = PrettyTable(['Loja', 'Faturamento'])\n",
        "    for _, row in revenue_df.iterrows():\n",
        "        tabel.add_row([\n",
        "            row['Loja'],\n",
        "            f\"R${row['Faturamento']:,.2f}\".replace(',', 'x').replace('.', ',').replace('x', '.')\n",
        "        ])\n",
        "\n",
        "    title = 'Faturamento por loja'\n",
        "    tabel_str = tabel.get_string(fontsize = 22)\n",
        "    width = len(tabel_str.splitlines()[0])\n",
        "\n",
        "    print('\\n' + title.center(width))\n",
        "    print(tabel_str)"
      ],
      "metadata": {
        "id": "KDyr8E71V3m-"
      },
      "execution_count": 4,
      "outputs": []
    },
    {
      "cell_type": "code",
      "source": [
        "plot_tabel_revenue(df_revenue)"
      ],
      "metadata": {
        "colab": {
          "base_uri": "https://localhost:8080/"
        },
        "id": "j4X8LuY4WK4h",
        "outputId": "dcc0ba4e-8114-405c-9a36-ba1b311ee7cd"
      },
      "execution_count": 5,
      "outputs": [
        {
          "output_type": "stream",
          "name": "stdout",
          "text": [
            "\n",
            "   Faturamento por loja   \n",
            "+-------+----------------+\n",
            "|  Loja |  Faturamento   |\n",
            "+-------+----------------+\n",
            "| Loja1 | R$1.534.509,12 |\n",
            "| Loja2 | R$1.488.459,06 |\n",
            "| Loja3 | R$1.464.025,03 |\n",
            "| Loja4 | R$1.384.497,58 |\n",
            "+-------+----------------+\n"
          ]
        }
      ]
    },
    {
      "cell_type": "markdown",
      "source": [
        "##1. Análise do faturamento - Gráfico"
      ],
      "metadata": {
        "id": "qkxvBzpQYOk5"
      }
    },
    {
      "cell_type": "code",
      "source": [
        "def plot_revenue_bar_graph(revenue_df: pd.DataFrame)->None:\n",
        "    fig, axs = plt.subplots(figsize=(10,6))\n",
        "    bar_colors = ['tab:red', 'tab:blue', 'tab:green', 'tab:orange']\n",
        "\n",
        "    labels = [lbl for lbl in revenue_df['Loja']]\n",
        "    values = [va/1e6 for va in revenue_df['Faturamento']]\n",
        "\n",
        "\n",
        "    bars = axs.bar(labels, values, color = bar_colors, width=0.5)\n",
        "    axs.bar_label(bars, labels=[f'{vl:.2f} M' for vl in values], fontsize = 12)\n",
        "    axs.set_title('Faturamento total de cada loja em milhões', fontsize = 12, fontweight= 'bold')\n",
        "\n",
        "    axs.set_xticks(range(len(labels)))\n",
        "    axs.set_xticklabels(labels, fontsize = 12)\n",
        "\n",
        "    axs.yaxis.set_visible(False)\n",
        "    axs.spines[['top', 'left', 'right']].set_visible(False)\n",
        "\n",
        "    plt.show()"
      ],
      "metadata": {
        "id": "5559uxtlYhCm"
      },
      "execution_count": 6,
      "outputs": []
    },
    {
      "cell_type": "code",
      "source": [
        "plot_revenue_bar_graph(df_revenue)"
      ],
      "metadata": {
        "colab": {
          "base_uri": "https://localhost:8080/",
          "height": 549
        },
        "id": "rNlZo2XtYk2o",
        "outputId": "5646d3f6-32d5-4bf7-e9e3-eedbc4490f31"
      },
      "execution_count": 7,
      "outputs": [
        {
          "output_type": "display_data",
          "data": {
            "text/plain": [
              "<Figure size 1000x600 with 1 Axes>"
            ],
            "image/png": "[encoded data removed]"
          },
          "metadata": {}
        }
      ]
    },
    {
      "cell_type": "markdown",
      "source": [
        "# 2. Vendas por Categoria\n"
      ],
      "metadata": {
        "id": "2V_vcAPzWZmR"
      }
    },
    {
      "cell_type": "code",
      "source": [
        "categories = {store_name: df.groupby('Categoria do Produto').size()\n",
        "            .reset_index(name='Quantidade')\n",
        "            .rename(columns = {'Categoria do Produto':'Categoria'})\n",
        "            for store_name, df in stores.items()}"
      ],
      "metadata": {
        "id": "A34YupIuYhfF"
      },
      "execution_count": 8,
      "outputs": []
    },
    {
      "cell_type": "code",
      "source": [
        "def plot_table_categories_most_sell(dict_categories)->None:\n",
        "    \"\"\"  Plot store products category most sold \"\"\"\n",
        "\n",
        "    table = PrettyTable(['Loja', 'Categoria', 'Quantidade'])\n",
        "    for store, df in dict_categories.items():\n",
        "        max_row = df.loc[df['Quantidade'].idxmax()]\n",
        "        table.add_row([\n",
        "            store,\n",
        "            max_row['Categoria'],\n",
        "            f\"{max_row['Quantidade']} Unidades\"\n",
        "        ])\n",
        "\n",
        "    title = 'Categoria mais vendida'\n",
        "    table_str = table.get_string()\n",
        "    width = len(table_str.splitlines()[0])\n",
        "\n",
        "    print('\\n' + title.center(width))\n",
        "    print(table_str)"
      ],
      "metadata": {
        "id": "yZR6cOjXYSk1"
      },
      "execution_count": 9,
      "outputs": []
    },
    {
      "cell_type": "code",
      "source": [
        "plot_table_categories_most_sell(categories)"
      ],
      "metadata": {
        "colab": {
          "base_uri": "https://localhost:8080/"
        },
        "id": "E8AfAJZlY_AD",
        "outputId": "1ce61671-46c8-4b3b-e18b-41bc99336308"
      },
      "execution_count": 10,
      "outputs": [
        {
          "output_type": "stream",
          "name": "stdout",
          "text": [
            "\n",
            "       Categoria mais vendida       \n",
            "+-------+-----------+--------------+\n",
            "|  Loja | Categoria |  Quantidade  |\n",
            "+-------+-----------+--------------+\n",
            "| Loja1 |   moveis  | 465 Unidades |\n",
            "| Loja2 |   moveis  | 442 Unidades |\n",
            "| Loja3 |   moveis  | 499 Unidades |\n",
            "| Loja4 |   moveis  | 480 Unidades |\n",
            "+-------+-----------+--------------+\n"
          ]
        }
      ]
    },
    {
      "cell_type": "code",
      "source": [
        "def plot_table_categories_least_sell(dict_categories:dict) -> None:\n",
        "    \"\"\"  Plot store products category least sold \"\"\"\n",
        "\n",
        "    table = PrettyTable(['Loja', 'Categoria', 'Quantidade'])\n",
        "    for store, df in dict_categories.items():\n",
        "        min_row = df.loc[df['Quantidade'].idxmin()]\n",
        "        table.add_row([\n",
        "            store,\n",
        "            min_row['Categoria'],\n",
        "            f\"{min_row['Quantidade']} Unidades\"\n",
        "        ])\n",
        "\n",
        "    title = 'Categoria menos vendida'\n",
        "    table_str = table.get_string()\n",
        "    width = len(table_str.splitlines()[0])\n",
        "\n",
        "    print('\\n' + title.center(width))\n",
        "    print(table_str)"
      ],
      "metadata": {
        "id": "OO24qp71ZqY6"
      },
      "execution_count": 11,
      "outputs": []
    },
    {
      "cell_type": "code",
      "source": [
        "plot_table_categories_least_sell(categories)"
      ],
      "metadata": {
        "colab": {
          "base_uri": "https://localhost:8080/"
        },
        "id": "4BQAKQPsZvtF",
        "outputId": "2c3d8ea5-c0bc-43c6-b95f-b149cf83eb5f"
      },
      "execution_count": 12,
      "outputs": [
        {
          "output_type": "stream",
          "name": "stdout",
          "text": [
            "\n",
            "            Categoria menos vendida             \n",
            "+-------+-----------------------+--------------+\n",
            "|  Loja |       Categoria       |  Quantidade  |\n",
            "+-------+-----------------------+--------------+\n",
            "| Loja1 | utilidades domesticas | 171 Unidades |\n",
            "| Loja2 | utilidades domesticas | 181 Unidades |\n",
            "| Loja3 | instrumentos musicais | 177 Unidades |\n",
            "| Loja4 | instrumentos musicais | 170 Unidades |\n",
            "+-------+-----------------------+--------------+\n"
          ]
        }
      ]
    },
    {
      "cell_type": "markdown",
      "source": [
        "##2 Categorias mais e menos vendidas - Gráfico"
      ],
      "metadata": {
        "id": "hQdiaoBGaRps"
      }
    },
    {
      "cell_type": "code",
      "source": [
        "def most_least_category_sold(name_category:pd.DataFrame, name_store:str) -> list:\n",
        "    \"\"\"  Return a list of the most and least sold category \"\"\"\n",
        "\n",
        "    max_row = name_category.loc[name_category['Quantidade'].idxmax()]\n",
        "    min_row = name_category.loc[name_category['Quantidade'].idxmin()]\n",
        "\n",
        "    frame = [\n",
        "        (f\"{name_store}\\nCategoria: {max_row['Categoria']}\", max_row['Quantidade']),\n",
        "        (f\"{name_store}\\nCategoria: {min_row['Categoria']}\", min_row['Quantidade'])\n",
        "    ]\n",
        "\n",
        "    return frame\n",
        "\n",
        "def plot_category_sell_bar_graph(list_data:list) -> None:\n",
        "    \"\"\" Plot bar chart for most and least category selling\"\"\"\n",
        "    labels, values = zip(*list_data)\n",
        "    fig, axs = plt.subplots(figsize=(12,8))\n",
        "\n",
        "    bar_colors = ['tab:blue', 'tab:red']\n",
        "\n",
        "    bars = axs.bar(labels, values, width=0.8, color=bar_colors)\n",
        "    axs.bar_label(bars, fontsize = 12)\n",
        "    axs.spines[['top', 'left', 'right']].set_visible(False)\n",
        "    axs.set_title('Vendas por categoria\\nTotal em unidades', fontsize = 14, fontweight='bold')\n",
        "    axs.yaxis.set_visible(False)\n",
        "\n",
        "    axs.set_xticks(range(len(labels)))\n",
        "    axs.set_xticklabels(labels, rotation=20, ha=\"right\", fontsize=12)\n",
        "\n",
        "    legend_elements = [\n",
        "        Patch(facecolor=\"tab:blue\", label=\"Mais vendido\"),\n",
        "        Patch(facecolor=\"tab:red\",  label=\"Menos vendido\")\n",
        "    ]\n",
        "    axs.legend(handles=legend_elements, loc=\"upper right\")\n",
        "\n",
        "    plt.tight_layout()\n",
        "    plt.show()"
      ],
      "metadata": {
        "id": "vRqaGe8pZ-YW"
      },
      "execution_count": 13,
      "outputs": []
    },
    {
      "cell_type": "code",
      "source": [
        "category_data = []\n",
        "for n_store in categories.keys():\n",
        "    category_data.extend(most_least_category_sold(categories[n_store], n_store))\n",
        "plot_category_sell_bar_graph(category_data)"
      ],
      "metadata": {
        "colab": {
          "base_uri": "https://localhost:8080/",
          "height": 807
        },
        "id": "QY3GxnSiaAB7",
        "outputId": "58dbfe7a-cab1-482b-915c-721ffbee98c3"
      },
      "execution_count": 14,
      "outputs": [
        {
          "output_type": "display_data",
          "data": {
            "text/plain": [
              "<Figure size 1200x800 with 1 Axes>"
            ],
            "image/png": "[encoded data removed]"
          },
          "metadata": {}
        }
      ]
    },
    {
      "cell_type": "markdown",
      "source": [
        "# 3. Média de Avaliação das Lojas"
      ],
      "metadata": {
        "id": "Rq6tU_xSY3jk"
      }
    },
    {
      "cell_type": "code",
      "source": [
        "customers_rank = {store_name: round(df['Avaliação da compra'].mean(),2) for store_name, df in stores.items()}\n",
        "df_customer_rank = (pd.DataFrame(customers_rank.items(), columns=['Loja', 'Avaliação da compra'])\n",
        "                    .rename(columns={'Avaliação da compra':'Avaliação média'}))"
      ],
      "metadata": {
        "id": "bh3jjjJwY5MU"
      },
      "execution_count": 15,
      "outputs": []
    },
    {
      "cell_type": "code",
      "source": [
        "def plot_table_customer_rank(customer_rank_df:pd.DataFrame)->None:\n",
        "    \"\"\"  Plot the table average customer rank review for each store \"\"\"\n",
        "\n",
        "    customer_rank_df = customer_rank_df.sort_values(by='Avaliação média',ascending=False)\n",
        "\n",
        "    table = PrettyTable(['Loja', 'Avaliação média' ])\n",
        "    for _, row in customer_rank_df.iterrows():\n",
        "        table.add_row([\n",
        "            row['Loja'],\n",
        "            row['Avaliação média']\n",
        "        ])\n",
        "\n",
        "    title = 'Avaliação média dos cientes'\n",
        "    table_str = table.get_string()\n",
        "    width =len(table_str.splitlines()[0])\n",
        "\n",
        "    print('\\n' + title.center(width))\n",
        "    print(table_str)"
      ],
      "metadata": {
        "id": "7JskYXR8afkE"
      },
      "execution_count": 16,
      "outputs": []
    },
    {
      "cell_type": "code",
      "source": [
        "plot_table_customer_rank(df_customer_rank)"
      ],
      "metadata": {
        "id": "I0KkjPoTY88F",
        "colab": {
          "base_uri": "https://localhost:8080/"
        },
        "outputId": "79accc83-7d13-4d07-949f-fd05675ac1d9"
      },
      "execution_count": 17,
      "outputs": [
        {
          "output_type": "stream",
          "name": "stdout",
          "text": [
            "\n",
            "Avaliação média dos cientes\n",
            "+-------+-----------------+\n",
            "|  Loja | Avaliação média |\n",
            "+-------+-----------------+\n",
            "| Loja3 |       4.05      |\n",
            "| Loja2 |       4.04      |\n",
            "| Loja4 |       4.0       |\n",
            "| Loja1 |       3.98      |\n",
            "+-------+-----------------+\n"
          ]
        }
      ]
    },
    {
      "cell_type": "markdown",
      "source": [
        "## 3. Média de Avaliação das Lojas - Gráfico"
      ],
      "metadata": {
        "id": "GDZo6ip9aset"
      }
    },
    {
      "cell_type": "code",
      "source": [
        "def plot_customer_rank_bar_graph(customer_rank_df:pd.DataFrame):\n",
        "    \"\"\"  Plot the bar graph average customer rank review for each store \"\"\"\n",
        "\n",
        "    customer_rank_df = customer_rank_df.sort_values(by='Avaliação média', ascending=False)\n",
        "    bar_colors = ['tab:red', 'tab:blue', 'tab:green', 'tab:orange']\n",
        "\n",
        "    fig, axs = plt.subplots(figsize=(10,6))\n",
        "    labels = [lbl for lbl in customer_rank_df['Loja']]\n",
        "    values = [va/1e0 for va in customer_rank_df['Avaliação média']]\n",
        "\n",
        "    bars = axs.bar(labels, values, color = bar_colors, width=0.4)\n",
        "    axs.bar_label(bars, fontsize=12)\n",
        "    axs.set_title('Avaliação média dos clientes por loja', fontsize=14, fontweight= 'bold')\n",
        "\n",
        "    axs.set_xticks(range(len(labels)))\n",
        "    axs.set_xticklabels(labels, fontsize=12)\n",
        "\n",
        "    axs.yaxis.set_visible(False)\n",
        "    axs.spines[['top', 'left', 'right']].set_visible(False)\n",
        "\n",
        "    plt.show()"
      ],
      "metadata": {
        "id": "mnK9Iv3-avwn"
      },
      "execution_count": 18,
      "outputs": []
    },
    {
      "cell_type": "code",
      "source": [
        "plot_customer_rank_bar_graph(df_customer_rank)"
      ],
      "metadata": {
        "colab": {
          "base_uri": "https://localhost:8080/",
          "height": 551
        },
        "id": "LzMxCoXHa4Tg",
        "outputId": "0316ae02-7e11-48e2-d816-83b0ecaef281"
      },
      "execution_count": 19,
      "outputs": [
        {
          "output_type": "display_data",
          "data": {
            "text/plain": [
              "<Figure size 1000x600 with 1 Axes>"
            ],
            "image/png": "[encoded data removed]"
          },
          "metadata": {}
        }
      ]
    },
    {
      "cell_type": "markdown",
      "source": [
        "# 4. Produtos Mais e Menos Vendidos"
      ],
      "metadata": {
        "id": "DmNp1KPBZCm-"
      }
    },
    {
      "cell_type": "code",
      "source": [
        "products = {store_name: df.groupby('Produto').size().reset_index(name='Quantidade')\n",
        "            for store_name, df in stores.items()}"
      ],
      "metadata": {
        "id": "qoyjqijQZHfF"
      },
      "execution_count": 20,
      "outputs": []
    },
    {
      "cell_type": "code",
      "source": [
        "def table_top_tree_sell(dic_products:dict[str, pd.DataFrame]):\n",
        "    \"\"\"  Plot a table of the top 3 products most sold \"\"\"\n",
        "\n",
        "    for store , df in dic_products.items():\n",
        "        table = PrettyTable(['Produto', 'Quantidade'])\n",
        "        top_row = df.nlargest(3,'Quantidade')\n",
        "\n",
        "        for _, row in top_row.iterrows():\n",
        "            table.add_row([\n",
        "                row['Produto'],\n",
        "                f\"{row['Quantidade']}\"\n",
        "            ])\n",
        "        title = f'Top 3 produtos mais vendidos - {store}'\n",
        "        table_str = table.get_string()\n",
        "        width = len(table_str.splitlines()[0])\n",
        "\n",
        "        print('\\n' + title.center(width))\n",
        "        print(table_str)"
      ],
      "metadata": {
        "id": "0Sw3sd4IZIGW"
      },
      "execution_count": 21,
      "outputs": []
    },
    {
      "cell_type": "code",
      "source": [
        "plot_table_categories_most_sell(categories)"
      ],
      "metadata": {
        "colab": {
          "base_uri": "https://localhost:8080/"
        },
        "id": "JI3948bubcQF",
        "outputId": "e3ee566f-a6b0-4e6f-a199-888a7fc3af19"
      },
      "execution_count": 22,
      "outputs": [
        {
          "output_type": "stream",
          "name": "stdout",
          "text": [
            "\n",
            "       Categoria mais vendida       \n",
            "+-------+-----------+--------------+\n",
            "|  Loja | Categoria |  Quantidade  |\n",
            "+-------+-----------+--------------+\n",
            "| Loja1 |   moveis  | 465 Unidades |\n",
            "| Loja2 |   moveis  | 442 Unidades |\n",
            "| Loja3 |   moveis  | 499 Unidades |\n",
            "| Loja4 |   moveis  | 480 Unidades |\n",
            "+-------+-----------+--------------+\n"
          ]
        }
      ]
    },
    {
      "cell_type": "code",
      "source": [
        "def table_bottom_tree_sell(dic_products:dict[str, pd.DataFrame]):\n",
        "    \"\"\"  Plot a table of the 3 products least sold \"\"\"\n",
        "\n",
        "    for store , df in dic_products.items():\n",
        "        table = PrettyTable(['Produto', 'Quantidade'])\n",
        "        top_bottom = df.nsmallest(3,'Quantidade')\n",
        "\n",
        "        for _, row in top_bottom.iterrows():\n",
        "            table.add_row([\n",
        "                row['Produto'],\n",
        "                f\"{row['Quantidade']}\"\n",
        "            ])\n",
        "        title = f' Os 3 produtos menos vendidos - {store}'\n",
        "        table_str = table.get_string()\n",
        "        width = len(table_str.splitlines()[0])\n",
        "\n",
        "        print('\\n' + title.center(width))\n",
        "        print(table_str)"
      ],
      "metadata": {
        "id": "-8XFSWd7b5AC"
      },
      "execution_count": 23,
      "outputs": []
    },
    {
      "cell_type": "code",
      "source": [
        "plot_table_categories_least_sell(categories)"
      ],
      "metadata": {
        "colab": {
          "base_uri": "https://localhost:8080/"
        },
        "id": "Tb45QU-5b6Ej",
        "outputId": "9e955d28-f0d0-4ff9-e79c-521750d65b82"
      },
      "execution_count": 24,
      "outputs": [
        {
          "output_type": "stream",
          "name": "stdout",
          "text": [
            "\n",
            "            Categoria menos vendida             \n",
            "+-------+-----------------------+--------------+\n",
            "|  Loja |       Categoria       |  Quantidade  |\n",
            "+-------+-----------------------+--------------+\n",
            "| Loja1 | utilidades domesticas | 171 Unidades |\n",
            "| Loja2 | utilidades domesticas | 181 Unidades |\n",
            "| Loja3 | instrumentos musicais | 177 Unidades |\n",
            "| Loja4 | instrumentos musicais | 170 Unidades |\n",
            "+-------+-----------------------+--------------+\n"
          ]
        }
      ]
    },
    {
      "cell_type": "markdown",
      "source": [
        "## 4. Produtos Mais e Menos Vendidos - Gráfico"
      ],
      "metadata": {
        "id": "O5K6eQCqcDME"
      }
    },
    {
      "cell_type": "code",
      "source": [
        "def frame_top_tree_product_sell(s_products:pd.DataFrame, store_name:str )-> list:\n",
        "    \"\"\" Make a top tree most product sold list \"\"\"\n",
        "\n",
        "    top_tree = s_products.nlargest(3,'Quantidade')\n",
        "    frame = [\n",
        "        (f\"{store_name}\\n{row['Produto']}\", row['Quantidade'])\n",
        "         for _, row in top_tree.iterrows()]\n",
        "\n",
        "    return frame\n",
        "\n",
        "def plot_product_bar_graph(product_list:list)-> None:\n",
        "  \"\"\" Plot a bar graphic of the 3 products most sold \"\"\"\n",
        "  labels, values = zip(*product_list)\n",
        "\n",
        "  stores_n = [lbl.split('\\n')[0] for lbl in labels]\n",
        "  stores_order = sorted(set(stores_n))\n",
        "  color_map = {s: plt.cm.tab10(i) for i, s in enumerate(stores_order)}\n",
        "  colors = [color_map[s] for s in stores_n]\n",
        "\n",
        "  fig, axs = plt.subplots(figsize=(12,10))\n",
        "\n",
        "  bars = axs.bar(labels, values, color = colors, width=0.6)\n",
        "  axs.bar_label(bars, fontsize=12)\n",
        "  axs.set_title('Produtos com maior número de unidades vendidas\\n Top 3', fontsize=14, fontweight='bold')\n",
        "  axs.spines[['top', 'left', 'right']].set_visible(False)\n",
        "  axs.yaxis.set_visible(False)\n",
        "\n",
        "  axs.set_xticks(range(len(labels)))\n",
        "  axs.set_xticklabels(labels, rotation=30, ha='right')\n",
        "\n",
        "  legends = [Patch(color=cor, label=loja) for loja, cor in color_map.items()]\n",
        "  axs.legend(handles=legends, title='Lojas', loc=\"upper right\")\n",
        "\n",
        "  plt.show()"
      ],
      "metadata": {
        "id": "yMruESyfcGRH"
      },
      "execution_count": 43,
      "outputs": []
    },
    {
      "cell_type": "code",
      "source": [
        "product_data = []\n",
        "for store in products.keys():\n",
        "    product_data.extend(frame_top_tree_product_sell(products[store], store))\n",
        "plot_product_bar_graph(product_data)"
      ],
      "metadata": {
        "colab": {
          "base_uri": "https://localhost:8080/",
          "height": 981
        },
        "id": "BpG5g40CdWIL",
        "outputId": "8e0f2051-8563-4dae-d5ac-40f72b4f0050"
      },
      "execution_count": 44,
      "outputs": [
        {
          "output_type": "display_data",
          "data": {
            "text/plain": [
              "<Figure size 1200x1000 with 1 Axes>"
            ],
            "image/png": "[encoded data removed]"
          },
          "metadata": {}
        }
      ]
    },
    {
      "cell_type": "markdown",
      "source": [
        "# 5. Frete Médio por Loja\n"
      ],
      "metadata": {
        "id": "Fl0cGi3bZKqU"
      }
    },
    {
      "cell_type": "code",
      "source": [
        "store_fare = {store_name: round(df['Frete'].mean()) for store_name, df in stores.items()}\n",
        "df_store_fare = pd.DataFrame(store_fare.items(), columns=['Loja', 'Frete'])"
      ],
      "metadata": {
        "id": "S2JeaCykZNy9"
      },
      "execution_count": 27,
      "outputs": []
    },
    {
      "cell_type": "code",
      "source": [
        "def plot_store_fare_table(store_fare_df:pd.DataFrame):\n",
        "    \"\"\" Plot the average store fare for each store \"\"\"\n",
        "\n",
        "    table = PrettyTable(['Loja', 'Frete'])\n",
        "\n",
        "    for _, row in store_fare_df.iterrows():\n",
        "        table.add_row([\n",
        "            row['Loja'],\n",
        "            f\"R${row['Frete']:,.2f}\".replace('.' ,',')\n",
        "        ])\n",
        "\n",
        "    title = 'Custo médio do frete por loja'\n",
        "    table_str = table.get_string()\n",
        "    width = len(table_str.splitlines()[0])\n",
        "\n",
        "    print('\\n' + title.center(width))\n",
        "    print(table_str)"
      ],
      "metadata": {
        "id": "ivTQ6Qeidkuc"
      },
      "execution_count": 28,
      "outputs": []
    },
    {
      "cell_type": "code",
      "source": [
        "plot_store_fare_table(df_store_fare)"
      ],
      "metadata": {
        "id": "0tSdCie9ZQlt",
        "colab": {
          "base_uri": "https://localhost:8080/"
        },
        "outputId": "5c91bb9f-3dfa-4d49-f266-6ea9b060f43d"
      },
      "execution_count": 29,
      "outputs": [
        {
          "output_type": "stream",
          "name": "stdout",
          "text": [
            "\n",
            "Custo médio do frete por loja\n",
            "+-------+---------+\n",
            "|  Loja |  Frete  |\n",
            "+-------+---------+\n",
            "| Loja1 | R$35,00 |\n",
            "| Loja2 | R$34,00 |\n",
            "| Loja3 | R$33,00 |\n",
            "| Loja4 | R$31,00 |\n",
            "+-------+---------+\n"
          ]
        }
      ]
    },
    {
      "cell_type": "code",
      "source": [
        "def plot_store_fare_bar_plot(store_fare_df:pd.DataFrame)->None:\n",
        "    fig, axs = plt.subplots(figsize=(8,5))\n",
        "    bar_colors = ['tab:red', 'tab:blue', 'tab:green', 'tab:orange']\n",
        "\n",
        "    labels = [lbl for lbl in store_fare_df['Loja']]\n",
        "    values = [val/1e0 for val in store_fare_df['Frete']]\n",
        "\n",
        "    bars = axs.bar(labels, values, color=bar_colors, width=0.5)\n",
        "    axs.bar_label(bars, labels=[f'R${vl:.2f}' for vl in values], fontsize=12)\n",
        "    axs.set_title('Custo médio do frete por loja', fontsize = 14, fontweight= 'bold')\n",
        "\n",
        "    axs.set_xticks(range(len(labels)))\n",
        "    axs.set_xticklabels(labels, fontsize=12)\n",
        "\n",
        "    axs.yaxis.set_visible(False)\n",
        "    axs.spines[['top', 'left', 'right']].set_visible(False)\n",
        "\n",
        "    plt.show()"
      ],
      "metadata": {
        "id": "4zOeR2Ttumk4"
      },
      "execution_count": 30,
      "outputs": []
    },
    {
      "cell_type": "code",
      "source": [
        "plot_store_fare_bar_plot(df_store_fare)"
      ],
      "metadata": {
        "colab": {
          "base_uri": "https://localhost:8080/",
          "height": 474
        },
        "id": "iMb-VIqivAC0",
        "outputId": "985bf8b7-8dc9-42da-9ea9-26b6fb4139d6"
      },
      "execution_count": 31,
      "outputs": [
        {
          "output_type": "display_data",
          "data": {
            "text/plain": [
              "<Figure size 800x500 with 1 Axes>"
            ],
            "image/png": "[encoded data removed]"
          },
          "metadata": {}
        }
      ]
    },
    {
      "cell_type": "markdown",
      "source": [
        "# 6. Faturamento líquido médio por loja"
      ],
      "metadata": {
        "id": "DAzemC4y8WW3"
      }
    },
    {
      "cell_type": "code",
      "source": [
        "net_revenue = {store_name: (df['Preço']-df['Frete']).mean()\n",
        "                for store_name, df in stores.items()}\n",
        "df_net_revenue = pd.DataFrame(list(net_revenue.items()), columns = ['Loja', 'Faturamento líquido médio'])"
      ],
      "metadata": {
        "id": "8__ehng28XAm"
      },
      "execution_count": 32,
      "outputs": []
    },
    {
      "cell_type": "code",
      "source": [
        "def plot_table_net_revenue(net_revenue_df:pd.DataFrame)-> None:\n",
        "    \"\"\" Plot a net revenue of each store table \"\"\"\n",
        "\n",
        "    net_revenue_df = net_revenue_df.sort_values(by='Faturamento líquido médio', ascending=False)\n",
        "\n",
        "    table = PrettyTable(['Loja', 'Faturamento líquido médio'])\n",
        "    for _, row in net_revenue_df.iterrows():\n",
        "        table.add_row([\n",
        "            row['Loja'],\n",
        "            f\"R${row['Faturamento líquido médio']:,.2f}\".replace('.', ',')\n",
        "        ])\n",
        "    title = 'Faturamento líquido médio por loja'\n",
        "    table_str = table.get_string()\n",
        "    width = len(table_str.splitlines()[0])\n",
        "\n",
        "    print('\\n' + title.center(width))\n",
        "    print(table_str)\n"
      ],
      "metadata": {
        "id": "CqvzBRpg8ZwH"
      },
      "execution_count": 33,
      "outputs": []
    },
    {
      "cell_type": "code",
      "source": [
        "plot_table_net_revenue(df_net_revenue)"
      ],
      "metadata": {
        "colab": {
          "base_uri": "https://localhost:8080/"
        },
        "id": "6vBdGuuJ8vxH",
        "outputId": "f96d2c76-a1de-4ec2-c3f1-6f2654066f76"
      },
      "execution_count": 34,
      "outputs": [
        {
          "output_type": "stream",
          "name": "stdout",
          "text": [
            "\n",
            "  Faturamento líquido médio por loja \n",
            "+-------+---------------------------+\n",
            "|  Loja | Faturamento líquido médio |\n",
            "+-------+---------------------------+\n",
            "| Loja1 |          R$615,80         |\n",
            "| Loja2 |          R$597,35         |\n",
            "| Loja3 |          R$587,54         |\n",
            "| Loja4 |          R$555,87         |\n",
            "+-------+---------------------------+\n"
          ]
        }
      ]
    },
    {
      "cell_type": "markdown",
      "source": [
        "##6. Faturamento líquido médio por loja - Gráfico"
      ],
      "metadata": {
        "id": "kSCgdr32-IvO"
      }
    },
    {
      "cell_type": "code",
      "source": [
        "def plot_bar_net_revenue(net_revenue_df:pd.DataFrame):\n",
        "    \"\"\" Plot a bar graph net revenue of each store table \"\"\"\n",
        "\n",
        "    net_revenue_df = net_revenue_df.sort_values(by='Faturamento líquido médio', ascending=False)\n",
        "    fig, axs = plt.subplots(figsize=(8, 5))\n",
        "    bar_colors = ['tab:red', 'tab:blue', 'tab:green', 'tab:orange']\n",
        "\n",
        "    labels = [lbl for lbl in net_revenue_df['Loja']]\n",
        "    values = [val / 1e0 for val in net_revenue_df['Faturamento líquido médio']]\n",
        "\n",
        "    bars = axs.bar(labels, values, color=bar_colors, width=0.8)\n",
        "    axs.bar_label(bars, labels=[f'R${vl:.2f}' for vl in values], fontsize=12)\n",
        "    axs.set_title('Faturamento líquido médio por loja', fontsize=14, fontweight='bold')\n",
        "\n",
        "    axs.set_xticks(range(len(labels)))\n",
        "    axs.set_xticklabels(labels, fontsize=12)\n",
        "\n",
        "    axs.yaxis.set_visible(False)\n",
        "    axs.spines[['top', 'left', 'right']].set_visible(False)\n",
        "\n",
        "    plt.show()"
      ],
      "metadata": {
        "id": "Ro8gQBV1-MgO"
      },
      "execution_count": 35,
      "outputs": []
    },
    {
      "cell_type": "code",
      "source": [
        "plot_bar_net_revenue(df_net_revenue)"
      ],
      "metadata": {
        "colab": {
          "base_uri": "https://localhost:8080/",
          "height": 474
        },
        "id": "r_RUPddY-R2J",
        "outputId": "bde707e3-5685-4736-b991-968a53a2a23b"
      },
      "execution_count": 36,
      "outputs": [
        {
          "output_type": "display_data",
          "data": {
            "text/plain": [
              "<Figure size 800x500 with 1 Axes>"
            ],
            "image/png": "[encoded data removed]"
          },
          "metadata": {}
        }
      ]
    },
    {
      "cell_type": "markdown",
      "source": [
        "# 7. Conclusão\n",
        "## 1. Análise do faturamento\n",
        "* A loja 1 lidera em faturamento bruto e faturamento líquido.  \n",
        "* A loja 4 é a que apresenta **pior desempenho** em ambos os quesitos.\n",
        "\n",
        "## 2. Análise de venda por categoria e produtos\n",
        "* Categoria com maior número de vendas: <strong>móveis</strong>, com destaque para a loja 3.  \n",
        "* Categoria com o pior desempenho de vendas: <strong>utilidades domésticas</strong> nas lojas 1 e 2 e <strong>instrumentos musicais</strong> nas lojas 3 e 4 — sendo a loja 4 a que apresenta **o pior desempenho** entre todas.\n",
        "\n",
        "## 3. Análise da experiência do cliente\n",
        "* Loja 3 lidera em satisfação.  \n",
        "* Loja 1 apresenta a pior nota; porém, é a que gera mais lucro, indicando que uma melhora na logística e no atendimento pós-venda **pode** elevar sua avaliação.\n",
        "\n",
        "## 4. Análise do custo do frete\n",
        "* A loja 4 apresenta o menor custo de frete, mas isso não se reflete em maior lucro nem em maior satisfação do cliente.  \n",
        "* A loja 1 apresenta o maior custo de frete, porém **é** a loja que gera maior lucro.\n",
        "\n",
        "## RESUMO\n",
        "* **Loja 1** – <strong>pontos positivos:</strong> maior faturamento. <strong>pontos negativos:</strong> frete mais caro e menor nota de satisfação do cliente.  \n",
        "* **Loja 2** – <strong>pontos positivos:</strong> boa avaliação e bom faturamento. <strong>pontos negativos:</strong> baixo giro de estoque do item «jogo de tabuleiro».  \n",
        "* **Loja 3** – <strong>pontos positivos:</strong> melhor avaliação e bom faturamento. <strong>pontos negativos:</strong> faturamento um pouco abaixo das lojas 1 e 2.  \n",
        "* **Loja 4** – <strong>pontos positivos:</strong> frete mais barato. <strong>pontos negativos:</strong> menor faturamento, baixa saída de instrumentos musicais e avaliação mediana.\n",
        "\n",
        "## Recomendação de venda\n",
        "### <em>Loja 4</em>\n",
        "A loja 4 possui **desempenho** financeiro inferior às demais, baixo giro de estoque em instrumentos musicais e, apesar do frete mais barato, isso **não indica** maior satisfação dos clientes.\n"
      ],
      "metadata": {
        "id": "scx3v8CJRrrW"
      }
    }
  ]
}